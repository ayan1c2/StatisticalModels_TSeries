{
 "cells": [
  {
   "cell_type": "code",
   "execution_count": 1,
   "id": "bc274d17",
   "metadata": {},
   "outputs": [],
   "source": [
    "# grid search sarima hyperparameters for daily female dataset\n",
   
    "from math import sqrt\n",
    "from multiprocessing import cpu_count\n",
    "from joblib import Parallel\n",
    "from joblib import delayed\n",
    "from warnings import catch_warnings\n",
    "from warnings import filterwarnings\n",
    "from statsmodels.tsa.statespace.sarimax import SARIMAX\n",
    "from sklearn.metrics import mean_squared_error\n",
    "from pandas import read_csv\n",
    "import matplotlib.pylab as plt"
   ]
  },
  {
   "cell_type": "code",
   "execution_count": 2,
   "id": "3d226cc1",
   "metadata": {},
   "outputs": [],
   "source": [
    "# one-step sarima forecast\n",
    "def sarima_forecast(history, config):\n",
    "\torder, sorder, trend = config\n",
    "\t# define model\n",
    "\tmodel = SARIMAX(history, order=order, seasonal_order=sorder, trend=trend, enforce_stationarity=False, enforce_invertibility=False)\n",
    "\t# fit model\n",
    "\tmodel_fit = model.fit(disp=False)\n",
    "\t# make one step forecast\n",
    "\tyhat = model_fit.predict(len(history), len(history))\n",
    "\treturn yhat[0]"
   ]
  },
  {
   "cell_type": "code",
   "execution_count": 3,
   "id": "4028fcbe",
   "metadata": {},
   "outputs": [],
   "source": [
    "# root mean squared error or rmse\n",
    "def measure_rmse(actual, predicted):\n",
    "\treturn sqrt(mean_squared_error(actual, predicted))\n",
    " \n",
    "# split a univariate dataset into train/test sets\n",
    "def train_test_split(data, n_test):\n",
    "\treturn data[:-n_test], data[-n_test:]"
   ]
  },
  {
   "cell_type": "code",
   "execution_count": 4,
   "id": "891ae8f6",
   "metadata": {},
   "outputs": [],
   "source": [
    "# walk-forward validation for univariate data\n",
    "def walk_forward_validation(data, n_test, cfg):\n",
    "\tprint('walk_forward_validation') \n",
    "\tpredictions = list()\n",
    "\t# split dataset\n",
    "\ttrain, test = train_test_split(data, n_test)\n",
    "\t# seed history with training dataset\n",
    "\thistory = [x for x in train]\n",
    "\t# step over each time-step in the test set\n",
    "\tfor i in range(len(test)):\n",
    "\t\t# fit model and make forecast for history\n",
    "\t\tyhat = sarima_forecast(history, cfg)\n",
    "\t\t# store forecast in list of predictions\n",
    "\t\tpredictions.append(yhat)\n",
    "\t\t# add actual observation to history for the next loop\n",
    "\t\thistory.append(test[i])\n",
    "\t# estimate prediction error\n",
    "\terror = measure_rmse(test, predictions)\n",
    "\treturn error\n"
   ]
  },
  {
   "cell_type": "code",
   "execution_count": 5,
   "id": "dd66562a",
   "metadata": {},
   "outputs": [],
   "source": [
    "# score a model, return None on failure\n",
    "def score_model(data, n_test, cfg, debug=False):\n",
    "\tprint('score_model')  \n",
    "\tresult = None\n",
    "\t# convert config to a key\n",
    "\tkey = str(cfg)\n",
    "\t# show all warnings and fail on exception if debugging\n",
    "\tif debug:\n",
    "\t\tresult = walk_forward_validation(data, n_test, cfg)\n",
    "\telse:\n",
    "\t\t# one failure during model validation suggests an unstable config\n",
    "\t\ttry:\n",
    "\t\t\t# never show warnings when grid searching, too noisy\n",
    "\t\t\twith catch_warnings():\n",
    "\t\t\t\tfilterwarnings(\"ignore\")\n",
    "\t\t\t\tresult = walk_forward_validation(data, n_test, cfg)\n",
    "\t\texcept:\n",
    "\t\t\terror = None\n",
    "\t# check for an interesting result\n",
    "\tif result is not None:\n",
    "\t\tprint(' > Model[%s] %.3f' % (key, result))\n",
    "\treturn (key, result)\n",
    " "
   ]
  },
  {
   "cell_type": "code",
   "execution_count": 6,
   "id": "1bb68ff8",
   "metadata": {},
   "outputs": [],
   "source": [
    "# grid search configs\n",
    "def grid_search(data, cfg_list, n_test, parallel=True):\n",
    "\tprint('grid_search')\n",
    "\tscores = None\n",
    "\tif parallel:\n",
    "\t\t# execute configs in parallel\n",
    "\t\texecutor = Parallel(n_jobs=cpu_count(), backend='multiprocessing')\n",
    "\t\ttasks = (delayed(score_model)(data, n_test, cfg) for cfg in cfg_list)\n",
    "\t\tscores = executor(tasks)\n",
    "\telse:\n",
    "\t\tscores = [score_model(data, n_test, cfg) for cfg in cfg_list]\n",
    "\t# remove empty results\n",
    "\tscores = [r for r in scores if r[1] != None]\n",
    "\t# sort configs by error, asc\n",
    "\tscores.sort(key=lambda tup: tup[1])\n",
    "\treturn scores"
   ]
  },
  {
   "cell_type": "code",
   "execution_count": 7,
   "id": "1925233f",
   "metadata": {},
   "outputs": [],
   "source": [
    "# create a set of sarima configs to try\n",
    "def sarima_configs(seasonal=[0]):\n",
    "\tprint('sarima_configs')\n",
    "\tmodels = list()\n",
    "\t# define config lists\n",
    "\tp_params = [0, 1, 2]\n",
    "\td_params = [0, 1]\n",
    "\tq_params = [0, 1, 2]\n",
    "\tt_params = ['n','c','t','ct']\n",
    "\tP_params = [0, 1, 2]\n",
    "\tD_params = [0, 1]\n",
    "\tQ_params = [0, 1, 2]\n",
    "\tm_params = seasonal\n",
    "\t# create config instances\n",
    "\tfor p in p_params:\n",
    "\t\tfor d in d_params:\n",
    "\t\t\tfor q in q_params:\n",
    "\t\t\t\tfor t in t_params:\n",
    "\t\t\t\t\tfor P in P_params:\n",
    "\t\t\t\t\t\tfor D in D_params:\n",
    "\t\t\t\t\t\t\tfor Q in Q_params:\n",
    "\t\t\t\t\t\t\t\tfor m in m_params:\n",
    "\t\t\t\t\t\t\t\t\tcfg = [(p,d,q), (P,D,Q,m), t]\n",
    "\t\t\t\t\t\t\t\t\tmodels.append(cfg)\n",
    "\treturn models"
   ]
  },
  {
   "cell_type": "code",
   "execution_count": 8,
   "id": "0a9389c3",
   "metadata": {},
   "outputs": [
    {
     "data": {
      "text/plain": [
       "\"\\nseries = read_csv('./input/shampoo.csv', header=0, index_col=0)\\ndata = series.values\\nprint(data.shape)\\n# data split\\nn_test = 165\\n# model configs\\nprint('running')\\ncfg_list = sarima_configs()\\n# grid search\\nscores = grid_search(data, cfg_list, n_test)\\nprint('done')\\n# list top 3 configs\\nfor cfg, error in scores[:3]:\\n\\tprint(cfg, error)\\n\""
      ]
     },
     "execution_count": 8,
     "metadata": {},
     "output_type": "execute_result"
    }
   ],
   "source": [
    "# load dataset\n",
    "'''\n",
    "series = read_csv('./input/shampoo.csv', header=0, index_col=0)\n",
    "data = series.values\n",
    "print(data.shape)\n",
    "# data split\n",
    "n_test = 165\n",
    "# model configs\n",
    "print('running')\n",
    "cfg_list = sarima_configs()\n",
    "# grid search\n",
    "scores = grid_search(data, cfg_list, n_test)\n",
    "print('done')\n",
    "# list top 3 configs\n",
    "for cfg, error in scores[:3]:\n",
    "\tprint(cfg, error)\n",
    "'''"
   ]
  },
  {
   "cell_type": "code",
   "execution_count": 9,
   "id": "cd993dbe",
   "metadata": {},
   "outputs": [],
   "source": [
    "#print(data.shape)"
   ]
  },
  {
   "cell_type": "code",
   "execution_count": 10,
   "id": "d50880e0",
   "metadata": {},
   "outputs": [],
   "source": [
    "#https://towardsdatascience.com/time-series-forecasting-with-a-sarima-model-db051b7ae459\n",
    "#Stationarity (Differencing and Augmented Dickey-Fuller Test)\n",
    "\n",
    "# load dataset\n",
    "#series = read_csv('./input/shampoo.csv', header=0, index_col=0)\n",
    "series = read_csv('p01_steps.csv', header=0, parse_dates=[0], index_col=0, squeeze=True)\n",
    "data = series.values\n",
    "\n",
    "X = series.values.astype('float32')\n",
    "size = int(len(X) * 0.8)\n",
    "train, test = X[0:size], X[size:len(X)]\n",
    "\n",
    "from statsmodels.tsa.stattools import adfuller\n",
    "adf, pvalue, usedlag_, nobs_, critical_values_, icbest_ = adfuller(train)"
   ]
  },
  {
   "cell_type": "code",
   "execution_count": 11,
   "id": "b8203a4c",
   "metadata": {},
   "outputs": [
    {
     "data": {
      "image/png": "[encoded data removed]",
      "text/plain": [
       "<Figure size 432x288 with 2 Axes>"
      ]
     },
     "metadata": {
      "needs_background": "light"
     },
     "output_type": "display_data"
    }
   ],
   "source": [
    "#SARIMA Model Parameters — ACF and PACF Plots\n",
    "\n",
    "'''\n",
    "As a quick overview, SARIMA models are ARIMA models with a seasonal component. Per the formula SARIMA(p,d,q)x(P,D,Q,s), the parameters for these types of models are as follows:\n",
    "p and seasonal P: indicate number of autoregressive terms (lags of the stationarized series)\n",
    "d and seasonal D: indicate differencing that must be done to stationarize series\n",
    "q and seasonal Q: indicate number of moving average terms (lags of the forecast errors)\n",
    "s: indicates seasonal length in the data\n",
    "'''\n",
    "\n",
    "import matplotlib.pyplot as plt\n",
    "import statsmodels.api as sm\n",
    "import seaborn as sns\n",
    "\n",
    "fig, ax = plt.subplots(2,1)\n",
    "fig = sm.graphics.tsa.plot_acf(train, lags=5, ax=ax[0])\n",
    "fig = sm.graphics.tsa.plot_pacf(train, lags=5, ax=ax[1])\n",
    "plt.show()"
   ]
  },
  {
   "cell_type": "code",
   "execution_count": 12,
   "id": "44d308e7",
   "metadata": {},
   "outputs": [
    {
     "data": {
      "text/plain": [
       "'\\nAs can be seen, there are significant negative spikes in the ACF plot at lag 1 and lag 7 (weekly seasonal component). \\nIn the PACF plot, there are significant negative spikes at lags 1 and 2 (i.e. lags are slower to decay), \\nas well as significant negative spikes at lags 7, 14, 21, etc.\\n\\nThese characteristics suggest a potential parameter starting point of SARIMA(0,1,1)x(0,1,1,7):\\np and P both equal 0 (no significant positive spikes in ACF and PACF plots)\\nd and D both equal 1 (first difference and seasonal difference)\\nq and Q both equal 1 (significant negative spikes, PACF decay is more gradual)\\ns equal to 7 (weekly seasonal component)\\n'"
      ]
     },
     "execution_count": 12,
     "metadata": {},
     "output_type": "execute_result"
    }
   ],
   "source": [
    "'''\n",
    "As can be seen, there are significant negative spikes in the ACF plot at lag 1 and lag 7 (weekly seasonal component). \n",
    "In the PACF plot, there are significant negative spikes at lags 1 and 2 (i.e. lags are slower to decay), \n",
    "as well as significant negative spikes at lags 7, 14, 21, etc.\n",
    "\n",
    "These characteristics suggest a potential parameter starting point of SARIMA(0,1,1)x(0,1,1,7):\n",
    "p and P both equal 0 (no significant positive spikes in ACF and PACF plots)\n",
    "d and D both equal 1 (first difference and seasonal difference)\n",
    "q and Q both equal 1 (significant negative spikes, PACF decay is more gradual)\n",
    "s equal to 7 (weekly seasonal component)\n",
    "'''\n",
    "\n",
    "#Grid Search and AIC\n",
    "\n",
    "#model = sm.tsa.statespace.SARIMAX(train, order=(0,1,1), seasonal_order=(0,1,1,7))\n",
    "\n",
    "#model.fit(max_iter = 10, method='powell')\n"
   ]
  },
  {
   "cell_type": "code",
   "execution_count": 13,
   "id": "59744f03",
   "metadata": {},
   "outputs": [
    {
     "name": "stderr",
     "output_type": "stream",
     "text": [
      "c:\\users\\ayanc\\appdata\\local\\programs\\python\\python36\\lib\\site-packages\\statsmodels\\tsa\\statespace\\sarimax.py:978: UserWarning: Non-invertible starting MA parameters found. Using zeros as starting parameters.\n",
      "  warn('Non-invertible starting MA parameters found.'\n",
      "c:\\users\\ayanc\\appdata\\local\\programs\\python\\python36\\lib\\site-packages\\statsmodels\\tsa\\statespace\\sarimax.py:1009: UserWarning: Non-invertible starting seasonal moving average Using zeros as starting parameters.\n",
      "  warn('Non-invertible starting seasonal moving average'\n"
     ]
    },
    {
     "name": "stdout",
     "output_type": "stream",
     "text": [
      "Optimization terminated successfully.\n",
      "         Current function value: 8.966230\n",
      "         Iterations: 5\n",
      "         Function evaluations: 609\n",
      "SARIMA(0, 2, 4),(0, 2, 4, 5) - AIC:2187.8275916636703 - RMSE:6500.113026664219\n",
      "Optimization terminated successfully.\n",
      "         Current function value: 8.796278\n",
      "         Iterations: 5\n",
      "         Function evaluations: 543\n",
      "SARIMA(0, 2, 4),(0, 2, 4, 6) - AIC:2146.699227802893 - RMSE:6267.746310421296\n",
      "Optimization terminated successfully.\n",
      "         Current function value: 8.593041\n",
      "         Iterations: 5\n",
      "         Function evaluations: 592\n",
      "SARIMA(0, 2, 4),(0, 2, 4, 7) - AIC:2097.515879493107 - RMSE:5981.263081906526\n",
      "Optimization terminated successfully.\n",
      "         Current function value: 8.477771\n",
      "         Iterations: 4\n",
      "         Function evaluations: 446\n",
      "SARIMA(0, 2, 4),(0, 2, 4, 8) - AIC:2069.620631601961 - RMSE:6364.666050526864\n"
     ]
    },
    {
     "name": "stderr",
     "output_type": "stream",
     "text": [
      "c:\\users\\ayanc\\appdata\\local\\programs\\python\\python36\\lib\\site-packages\\statsmodels\\tsa\\statespace\\sarimax.py:868: UserWarning: Too few observations to estimate starting parameters for seasonal ARMA. All parameters except for variances will be set to zeros.\n",
      "  ' zeros.' % warning_description)\n"
     ]
    },
    {
     "name": "stdout",
     "output_type": "stream",
     "text": [
      "Optimization terminated successfully.\n",
      "         Current function value: 8.341015\n",
      "         Iterations: 5\n",
      "         Function evaluations: 595\n",
      "SARIMA(0, 2, 4),(0, 2, 4, 9) - AIC:2036.5256476253583 - RMSE:6407.732061363133\n",
      "Optimization terminated successfully.\n",
      "         Current function value: 8.180410\n",
      "         Iterations: 5\n",
      "         Function evaluations: 531\n",
      "SARIMA(0, 2, 4),(0, 2, 4, 10) - AIC:1997.6593406729046 - RMSE:6500.313805292858\n",
      "Optimization terminated successfully.\n",
      "         Current function value: 7.983189\n",
      "         Iterations: 4\n",
      "         Function evaluations: 483\n",
      "SARIMA(0, 2, 4),(0, 2, 4, 11) - AIC:1949.9318350606745 - RMSE:6430.140869694628\n"
     ]
    },
    {
     "name": "stderr",
     "output_type": "stream",
     "text": [
      "c:\\users\\ayanc\\appdata\\local\\programs\\python\\python36\\lib\\site-packages\\statsmodels\\tsa\\statespace\\sarimax.py:997: UserWarning: Non-stationary starting seasonal autoregressive Using zeros as starting parameters.\n",
      "  warn('Non-stationary starting seasonal autoregressive'\n"
     ]
    },
    {
     "name": "stdout",
     "output_type": "stream",
     "text": [
      "Optimization terminated successfully.\n",
      "         Current function value: 8.936147\n",
      "         Iterations: 9\n",
      "         Function evaluations: 2012\n",
      "SARIMA(0, 2, 4),(10, 2, 4, 5) - AIC:2200.547482021062 - RMSE:6365.049383028675\n",
      "Optimization terminated successfully.\n",
      "         Current function value: 8.770684\n",
      "         Iterations: 8\n",
      "         Function evaluations: 1812\n",
      "SARIMA(0, 2, 4),(10, 2, 4, 6) - AIC:2160.5055617475664 - RMSE:6185.533016381511\n",
      "Optimization terminated successfully.\n",
      "         Current function value: 8.527757\n",
      "         Iterations: 10\n",
      "         Function evaluations: 2269\n",
      "SARIMA(0, 2, 4),(10, 2, 4, 7) - AIC:2101.7171930108548 - RMSE:5756.554049601833\n",
      "Optimization terminated successfully.\n",
      "         Current function value: 8.443648\n",
      "         Iterations: 5\n",
      "         Function evaluations: 1151\n",
      "SARIMA(0, 2, 4),(10, 2, 4, 8) - AIC:2081.3627075679206 - RMSE:6308.174782857691\n",
      "Optimization terminated successfully.\n",
      "         Current function value: 8.277200\n",
      "         Iterations: 5\n",
      "         Function evaluations: 1134\n",
      "SARIMA(0, 2, 4),(10, 2, 4, 9) - AIC:2041.0823208364523 - RMSE:6157.677078537637\n",
      "Optimization terminated successfully.\n",
      "         Current function value: 8.114139\n",
      "         Iterations: 6\n",
      "         Function evaluations: 1337\n",
      "SARIMA(0, 2, 4),(10, 2, 4, 10) - AIC:2001.6216975714144 - RMSE:6333.292960743981\n",
      "Optimization terminated successfully.\n",
      "         Current function value: 7.937924\n",
      "         Iterations: 5\n",
      "         Function evaluations: 1143\n",
      "SARIMA(0, 2, 4),(10, 2, 4, 11) - AIC:1958.9776224303178 - RMSE:6296.403497193722\n"
     ]
    },
    {
     "name": "stderr",
     "output_type": "stream",
     "text": [
      "c:\\users\\ayanc\\appdata\\local\\programs\\python\\python36\\lib\\site-packages\\statsmodels\\tsa\\statespace\\sarimax.py:966: UserWarning: Non-stationary starting autoregressive parameters found. Using zeros as starting parameters.\n",
      "  warn('Non-stationary starting autoregressive parameters'\n"
     ]
    },
    {
     "name": "stdout",
     "output_type": "stream",
     "text": [
      "Optimization terminated successfully.\n",
      "         Current function value: 8.982905\n",
      "         Iterations: 12\n",
      "         Function evaluations: 2677\n",
      "SARIMA(10, 2, 4),(0, 2, 4, 5) - AIC:2211.8630712178997 - RMSE:6546.547221124622\n",
      "Optimization terminated successfully.\n",
      "         Current function value: 8.797568\n",
      "         Iterations: 9\n",
      "         Function evaluations: 2041\n",
      "SARIMA(10, 2, 4),(0, 2, 4, 6) - AIC:2167.0115429616385 - RMSE:6234.783343159538\n",
      "Optimization terminated successfully.\n",
      "         Current function value: 8.537909\n",
      "         Iterations: 15\n",
      "         Function evaluations: 3400\n",
      "SARIMA(10, 2, 4),(0, 2, 4, 7) - AIC:2104.174033137397 - RMSE:5813.101076898752\n",
      "Optimization terminated successfully.\n",
      "         Current function value: 8.449073\n",
      "         Iterations: 15\n",
      "         Function evaluations: 3481\n",
      "SARIMA(10, 2, 4),(0, 2, 4, 8) - AIC:2082.6755510324265 - RMSE:6262.373633501809\n",
      "Optimization terminated successfully.\n",
      "         Current function value: 8.344470\n",
      "         Iterations: 7\n",
      "         Function evaluations: 1554\n",
      "SARIMA(10, 2, 4),(0, 2, 4, 9) - AIC:2057.361801511962 - RMSE:6390.768880949109\n",
      "Optimization terminated successfully.\n",
      "         Current function value: 8.174608\n",
      "         Iterations: 9\n",
      "         Function evaluations: 2064\n",
      "SARIMA(10, 2, 4),(0, 2, 4, 10) - AIC:2016.2550357562923 - RMSE:6448.3178807050135\n",
      "Optimization terminated successfully.\n",
      "         Current function value: 7.946401\n",
      "         Iterations: 8\n",
      "         Function evaluations: 1765\n",
      "SARIMA(10, 2, 4),(0, 2, 4, 11) - AIC:1961.0291276975026 - RMSE:6261.943721684949\n"
     ]
    }
   ],
   "source": [
    "#SARIMA Model Parameters — Grid Search\n",
    "\n",
    "import itertools\n",
    "import math \n",
    "\n",
    "#set parameter range\n",
    "#p = range(0,4)\n",
    "#q = range(1,4)\n",
    "#d = range(1,4)\n",
    "p = [0, 10]\n",
    "d = [2]\n",
    "q = [4]\n",
    "s = range(1,12)\n",
    "\n",
    "# list of all parameter combos\n",
    "pdq = list(itertools.product(p, d, q))\n",
    "seasonal_pdq = list(itertools.product(p, d, q, s))\n",
    "\n",
    "# SARIMA model pipeline\n",
    "for param in pdq:\n",
    "    for param_seasonal in seasonal_pdq:\n",
    "        try:\n",
    "            mod = sm.tsa.statespace.SARIMAX(train,\n",
    "                                    order=param,\n",
    "                                    seasonal_order=param_seasonal)\n",
    "            results = mod.fit(max_iter = 10, method = 'powell')\n",
    "            \n",
    "            print('SARIMA{},{} - AIC:{} - RMSE:{}'.format(param, param_seasonal, results.aic, math.sqrt(results.mse)))\n",
    "        except:\n",
    "            continue"
   ]
  },
  {
   "cell_type": "code",
   "execution_count": 14,
   "id": "70803b93",
   "metadata": {},
   "outputs": [],
   "source": [
    "#Walk Forward Validation & Evaluation with MAPE\n",
    "\n",
    "# data = entire dataset\n",
    "# n_test = point where data is split into training and test sets\n",
    "def walk_forward_validation(data, n_test):\n",
    "    predictions = np.array([])\n",
    "    mape_list = []\n",
    "    train, test = data[:n_test], data[n_test:]\n",
    "    day_list = [7,14,21,28] # weeks 1,2,3,4\n",
    "    for i in day_list:\n",
    "        # Fit model to training data\n",
    "        model = sm.tsa.statespace.SARIMAX(train, order=(1,1,2), \n",
    "                                          seasonal_order = (1,1,2,7))                                          \n",
    "            \n",
    "        model = model.fit(max_iter = 10, method = 'powell')\n",
    "        \n",
    "        # Forecast daily loads for week i\n",
    "        forecast = model.get_forecast(steps = 7)\n",
    "        predictions = np.concatenate(predictions, forecast, \n",
    "                                     axis=None)\n",
    "        \n",
    "        # Calculate MAPE and add to mape_list\n",
    "        j = i-7\n",
    "        mape_score = (abs(test[j:i]-predictions[j:i])/test[j:i])*100\n",
    "        mape_mean = mape_score.mean()\n",
    "        mape_list.append(mape_mean)\n",
    "        \n",
    "        # Add week i to training data for next loop\n",
    "        train = np.concatenate((train, test[j:i]), axis=None)\n",
    "        \n",
    "    return predictions, mape_list"
   ]
  },
  {
   "cell_type": "code",
   "execution_count": 15,
   "id": "bec5e009",
   "metadata": {},
   "outputs": [
    {
     "data": {
      "text/plain": [
       "'\\nFor many types of time series models, it’s important to verify that your data is stationary. \\nAs a quick summary, the data needs to satisfy the following requirements to ensure stationarity:\\n\\nConstant mean\\nConstant variance\\nConstant autocorrelation structure (current value being dependent on past value)\\nNo periodic component\\n'"
      ]
     },
     "execution_count": 15,
     "metadata": {},
     "output_type": "execute_result"
    }
   ],
   "source": [
    "'''\n",
    "For many types of time series models, it’s important to verify that your data is stationary. \n",
    "As a quick summary, the data needs to satisfy the following requirements to ensure stationarity:\n",
    "\n",
    "Constant mean\n",
    "Constant variance\n",
    "Constant autocorrelation structure (current value being dependent on past value)\n",
    "No periodic component\n",
    "'''"
   ]
  }
 ],
 "metadata": {
  "kernelspec": {
   "display_name": "Python 3",
   "language": "python",
   "name": "python3"
  },
  "language_info": {
   "codemirror_mode": {
    "name": "ipython",
    "version": 3
   },
   "file_extension": ".py",
   "mimetype": "text/x-python",
   "name": "python",
   "nbconvert_exporter": "python",
   "pygments_lexer": "ipython3",
   "version": "3.6.6"
  }
 },
 "nbformat": 4,
 "nbformat_minor": 5
}
