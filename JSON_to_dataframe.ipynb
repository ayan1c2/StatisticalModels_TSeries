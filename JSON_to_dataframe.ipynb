{
 "cells": [
  {
   "cell_type": "code",
   "execution_count": 1,
   "id": "2863993a",
   "metadata": {},
   "outputs": [],
   "source": [
    "import pandas as pd"
   ]
  },
  {
   "cell_type": "code",
   "execution_count": 2,
   "id": "66adfacc",
   "metadata": {},
   "outputs": [],
   "source": [
    "headers = ['year', 'month', 'day', 'hour', 'min', 'steps']\n",
    "header = ['year', 'month', 'day', 'steps']\n",
    "head = ['timestamp', 'steps']"
   ]
  },
  {
   "cell_type": "code",
   "execution_count": 3,
   "id": "6029adf5",
   "metadata": {},
   "outputs": [
    {
     "name": "stdout",
     "output_type": "stream",
     "text": [
      "             dateTime  value\n",
      "0 2019-11-01 00:02:00      0\n",
      "1 2019-11-01 00:03:00      0\n",
      "2 2019-11-01 00:04:00      4\n",
      "3 2019-11-01 00:09:00     15\n",
      "4 2019-11-01 00:10:00      0\n"
     ]
    }
   ],
   "source": [
    "#p-0x\n",
    "\n",
    "df = pd.read_json(r'C:\\Users\\AyanC\\OneDrive - Universitetet i Agder\\Kalman\\Input\\pmdata\\p16\\fitbit\\steps.json')\n",
    "\n",
    "print (df.head())"
   ]
  },
  {
   "cell_type": "code",
   "execution_count": 4,
   "id": "9e1aeb87",
   "metadata": {},
   "outputs": [],
   "source": [
    "df['mdate'] = pd.to_datetime(df['dateTime'])\n",
    "\n",
    "df['year'] = df['mdate'].dt.year\n",
    "df['month'] = df['mdate'].dt.month\n",
    "df['day'] = df['mdate'].dt.day\n",
    "df['hour'] = df['mdate'].dt.hour\n",
    "df['min'] = df['mdate'].dt.minute\n",
    "df['steps'] = df['value']"
   ]
  },
  {
   "cell_type": "code",
   "execution_count": 5,
   "id": "fb80d3f7",
   "metadata": {},
   "outputs": [
    {
     "data": {
      "text/plain": [
       "Index(['dateTime', 'value', 'mdate', 'year', 'month', 'day', 'hour', 'min',\n",
       "       'steps'],\n",
       "      dtype='object')"
      ]
     },
     "execution_count": 5,
     "metadata": {},
     "output_type": "execute_result"
    }
   ],
   "source": [
    "df.columns"
   ]
  },
  {
   "cell_type": "code",
   "execution_count": 6,
   "id": "eab66640",
   "metadata": {},
   "outputs": [],
   "source": [
    "df = df[headers]"
   ]
  },
  {
   "cell_type": "code",
   "execution_count": 7,
   "id": "2f318ce7",
   "metadata": {},
   "outputs": [
    {
     "name": "stdout",
     "output_type": "stream",
     "text": [
      "   year  month  day  hour  min  steps\n",
      "0  2019     11    1     0    2      0\n",
      "1  2019     11    1     0    3      0\n",
      "2  2019     11    1     0    4      4\n",
      "3  2019     11    1     0    9     15\n",
      "4  2019     11    1     0   10      0\n"
     ]
    }
   ],
   "source": [
    "print(df.head())"
   ]
  },
  {
   "cell_type": "code",
   "execution_count": 8,
   "id": "4f44b8b8",
   "metadata": {},
   "outputs": [],
   "source": [
    "df = df.groupby(['year','month','day'], as_index = False).sum('steps')"
   ]
  },
  {
   "cell_type": "code",
   "execution_count": 9,
   "id": "8be34c2f",
   "metadata": {},
   "outputs": [
    {
     "name": "stdout",
     "output_type": "stream",
     "text": [
      "    year  month  day   hour    min  steps\n",
      "0   2019     11    1  11638  21751   3062\n",
      "1   2019     11    2   6706  15235   1472\n",
      "2   2019     11    3   6035  13669    610\n",
      "3   2019     11    4   4529   9357   2177\n",
      "4   2019     11    5   7023  12016   1690\n",
      "5   2019     11    6   7640  13747    597\n",
      "6   2019     11    7   9111  19915   4588\n",
      "7   2019     11    8   8856  18839   4786\n",
      "8   2019     11    9   4666   8602   1709\n",
      "9   2019     11   10   4947   9916    729\n",
      "10  2019     11   11   2390   6277    340\n",
      "11  2019     11   12   8116  18049   4724\n",
      "12  2019     11   13   4159   9029   1061\n",
      "13  2019     11   14   7414  16673   4203\n",
      "14  2019     11   15   7967  15625   4553\n",
      "15  2019     11   16   6847  14266   2679\n",
      "16  2019     11   17   6807  14093   1594\n",
      "17  2019     11   18   7572  14512   1838\n",
      "18  2019     11   19   8080  16138   1998\n",
      "19  2019     11   20   6431  14741   1233\n",
      "20  2019     11   21   7958  17094   5438\n",
      "21  2019     11   22   9596  18254   4593\n",
      "22  2019     11   23   5438  11380   2103\n",
      "23  2019     11   24   5828  13134   1124\n",
      "24  2019     11   25   5987  13797    847\n",
      "25  2019     11   26   6212  14897    907\n",
      "26  2019     11   27   8373  18512   4527\n",
      "27  2019     11   28   9059  18596   4089\n",
      "28  2019     11   29   7934  15503   2965\n",
      "29  2019     11   30   6728  12836   2061\n",
      "30  2019     12    1   5062  11206   1007\n"
     ]
    }
   ],
   "source": [
    "print(df.head(31))"
   ]
  },
  {
   "cell_type": "code",
   "execution_count": 10,
   "id": "5c3ad51a",
   "metadata": {},
   "outputs": [
    {
     "data": {
      "text/plain": [
       "Index(['year', 'month', 'day', 'hour', 'min', 'steps'], dtype='object')"
      ]
     },
     "execution_count": 10,
     "metadata": {},
     "output_type": "execute_result"
    }
   ],
   "source": [
    "df.columns"
   ]
  },
  {
   "cell_type": "code",
   "execution_count": 11,
   "id": "73ac44a9",
   "metadata": {},
   "outputs": [],
   "source": [
    "df = df[header]"
   ]
  },
  {
   "cell_type": "code",
   "execution_count": 12,
   "id": "6984de61",
   "metadata": {},
   "outputs": [
    {
     "data": {
      "text/plain": [
       "Index(['year', 'month', 'day', 'steps'], dtype='object')"
      ]
     },
     "execution_count": 12,
     "metadata": {},
     "output_type": "execute_result"
    }
   ],
   "source": [
    "df.columns"
   ]
  },
  {
   "cell_type": "code",
   "execution_count": 13,
   "id": "5514667e",
   "metadata": {},
   "outputs": [
    {
     "name": "stdout",
     "output_type": "stream",
     "text": [
      "    year  month  day  steps\n",
      "0   2019     11    1   3062\n",
      "1   2019     11    2   1472\n",
      "2   2019     11    3    610\n",
      "3   2019     11    4   2177\n",
      "4   2019     11    5   1690\n",
      "5   2019     11    6    597\n",
      "6   2019     11    7   4588\n",
      "7   2019     11    8   4786\n",
      "8   2019     11    9   1709\n",
      "9   2019     11   10    729\n",
      "10  2019     11   11    340\n",
      "11  2019     11   12   4724\n",
      "12  2019     11   13   1061\n",
      "13  2019     11   14   4203\n",
      "14  2019     11   15   4553\n",
      "15  2019     11   16   2679\n",
      "16  2019     11   17   1594\n",
      "17  2019     11   18   1838\n",
      "18  2019     11   19   1998\n",
      "19  2019     11   20   1233\n",
      "20  2019     11   21   5438\n",
      "21  2019     11   22   4593\n",
      "22  2019     11   23   2103\n",
      "23  2019     11   24   1124\n",
      "24  2019     11   25    847\n",
      "25  2019     11   26    907\n",
      "26  2019     11   27   4527\n",
      "27  2019     11   28   4089\n",
      "28  2019     11   29   2965\n",
      "29  2019     11   30   2061\n",
      "30  2019     12    1   1007\n",
      "31  2019     12    2   2161\n",
      "32  2019     12    3    865\n",
      "33  2019     12    4   2232\n",
      "34  2019     12    5   2445\n",
      "35  2019     12    6   1866\n",
      "36  2019     12    7    487\n",
      "37  2019     12    8    771\n",
      "38  2019     12    9   5002\n",
      "39  2019     12   10   2938\n",
      "40  2019     12   11    871\n"
     ]
    }
   ],
   "source": [
    "print(df.head(41))"
   ]
  },
  {
   "cell_type": "code",
   "execution_count": 14,
   "id": "874b19fd",
   "metadata": {},
   "outputs": [],
   "source": [
    "df['timestamp'] = df['year'].astype(str)+'-'+df['month'].astype(str)+'-'+df['day'].astype(str)\n",
    "\n",
    "df['timestamp'] = pd.to_datetime(df['timestamp'])\n",
    "df = df[head]\n",
    "df = df.reset_index(drop=True)"
   ]
  },
  {
   "cell_type": "code",
   "execution_count": 15,
   "id": "ce75b268",
   "metadata": {},
   "outputs": [],
   "source": [
    "df.to_csv('p16_steps.csv')"
   ]
  },
  {
   "cell_type": "code",
   "execution_count": 16,
   "id": "9371a174",
   "metadata": {},
   "outputs": [
    {
     "data": {
      "text/plain": [
       "(152, 2)"
      ]
     },
     "execution_count": 16,
     "metadata": {},
     "output_type": "execute_result"
    }
   ],
   "source": [
    "df.shape"
   ]
  },
  {
   "cell_type": "code",
   "execution_count": 17,
   "id": "26d24912",
   "metadata": {},
   "outputs": [
    {
     "data": {
      "text/plain": [
       "<AxesSubplot:>"
      ]
     },
     "execution_count": 17,
     "metadata": {},
     "output_type": "execute_result"
    },
    {
     "data": {
      "image/png": "[encoded data removed]",
      "text/plain": [
       "<Figure size 432x288 with 1 Axes>"
      ]
     },
     "metadata": {
      "needs_background": "light"
     },
     "output_type": "display_data"
    }
   ],
   "source": [
    "df.plot()"
   ]
  },
  {
   "cell_type": "code",
   "execution_count": null,
   "id": "4e2c3fd2",
   "metadata": {},
   "outputs": [],
   "source": []
  }
 ],
 "metadata": {
  "kernelspec": {
   "display_name": "Python 3",
   "language": "python",
   "name": "python3"
  },
  "language_info": {
   "codemirror_mode": {
    "name": "ipython",
    "version": 3
   },
   "file_extension": ".py",
   "mimetype": "text/x-python",
   "name": "python",
   "nbconvert_exporter": "python",
   "pygments_lexer": "ipython3",
   "version": "3.6.6"
  }
 },
 "nbformat": 4,
 "nbformat_minor": 5
}
